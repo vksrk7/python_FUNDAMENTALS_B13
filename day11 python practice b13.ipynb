{
 "cells": [
  {
   "cell_type": "code",
   "execution_count": 7,
   "metadata": {},
   "outputs": [
    {
     "name": "stdout",
     "output_type": "stream",
     "text": [
      "{'andhra': 'kakinada', 'tamilnadu': 'chennai', 'kerala': 'kochi', 'telangana': 'hyd', 'karnataka': 'banglore'}\n"
     ]
    }
   ],
   "source": [
    "fav_places={\n",
    "    'andhra':'kakinada',\n",
    "    'tamilnadu':'chennai',\n",
    "    'kerala':'kochi',\n",
    "    'telangana':'hyd',\n",
    "    'karnataka':'banglore'\n",
    "    \n",
    "}\n",
    "print(fav_places)"
   ]
  },
  {
   "cell_type": "code",
   "execution_count": 8,
   "metadata": {},
   "outputs": [
    {
     "name": "stdout",
     "output_type": "stream",
     "text": [
      "{'andhra': 'kakinada', 'tamilnadu': 'chennai', 'kerala': 'kochi', 'telangana': 'hyd', 'karnataka': 'banglore'}\n"
     ]
    }
   ],
   "source": [
    "print(fav_places)"
   ]
  },
  {
   "cell_type": "code",
   "execution_count": 12,
   "metadata": {},
   "outputs": [
    {
     "name": "stdout",
     "output_type": "stream",
     "text": [
      "\n",
      " in andhra Kakinada is best place to visit\n"
     ]
    }
   ],
   "source": [
    "coolest=fav_places['andhra'].title()\n",
    "print(f\"\\n in andhra {coolest} is best place to visit\")"
   ]
  },
  {
   "cell_type": "code",
   "execution_count": null,
   "metadata": {},
   "outputs": [],
   "source": []
  },
  {
   "cell_type": "code",
   "execution_count": null,
   "metadata": {},
   "outputs": [],
   "source": []
  },
  {
   "cell_type": "code",
   "execution_count": 13,
   "metadata": {},
   "outputs": [
    {
     "name": "stdout",
     "output_type": "stream",
     "text": [
      "{'sai': 'rk', 'mani': 'k', 'karim': 'sk', 'gopal': 'g', 'sairaj': 'vr'}\n"
     ]
    }
   ],
   "source": [
    "user_admin={\n",
    "    'sai':'rk',\n",
    "    'mani':'k',\n",
    "    'karim':'sk',\n",
    "    'gopal':'g',\n",
    "    'sairaj':'vr',\n",
    "}\n",
    "print(user_admin)"
   ]
  },
  {
   "cell_type": "code",
   "execution_count": 23,
   "metadata": {},
   "outputs": [
    {
     "name": "stdout",
     "output_type": "stream",
     "text": [
      "\n",
      "key: sai\n",
      "value: rk\n",
      "\n",
      "key: mani\n",
      "value: k\n",
      "\n",
      "key: karim\n",
      "value: sk\n",
      "\n",
      "key: gopal\n",
      "value: g\n",
      "\n",
      "key: sairaj\n",
      "value: vr\n"
     ]
    }
   ],
   "source": [
    "for s,r in user_admin.items():\n",
    "    print(f\"\\nkey: {s}\")\n",
    "    print(f\"value: {r}\")"
   ]
  },
  {
   "cell_type": "code",
   "execution_count": 25,
   "metadata": {},
   "outputs": [
    {
     "name": "stdout",
     "output_type": "stream",
     "text": [
      "rk\n",
      "k\n",
      "sk\n",
      "g\n",
      "vr\n"
     ]
    }
   ],
   "source": [
    "for r in user_admin.values():\n",
    "    print(r)"
   ]
  },
  {
   "cell_type": "code",
   "execution_count": 27,
   "metadata": {},
   "outputs": [
    {
     "name": "stdout",
     "output_type": "stream",
     "text": [
      "{'dairymilk': 'fourty', 'kitkat': 'thirty', 'barone': 'twenty', 'centerfresh': 'one'}\n"
     ]
    }
   ],
   "source": [
    "chocolates={\n",
    "    'dairymilk':'fourty',\n",
    "    'kitkat':'thirty',\n",
    "    'barone':'twenty',\n",
    "    'centerfresh':'one',\n",
    "}\n",
    "print(chocolates)"
   ]
  },
  {
   "cell_type": "code",
   "execution_count": 36,
   "metadata": {},
   "outputs": [
    {
     "ename": "AttributeError",
     "evalue": "'dict' object has no attribute 'title'",
     "output_type": "error",
     "traceback": [
      "\u001b[1;31m---------------------------------------------------------------------------\u001b[0m",
      "\u001b[1;31mAttributeError\u001b[0m                            Traceback (most recent call last)",
      "\u001b[1;32m<ipython-input-36-77b015f6f2b7>\u001b[0m in \u001b[0;36m<module>\u001b[1;34m\u001b[0m\n\u001b[0;32m      1\u001b[0m \u001b[1;32mfor\u001b[0m \u001b[0msweet\u001b[0m \u001b[1;32min\u001b[0m \u001b[0msorted\u001b[0m\u001b[1;33m(\u001b[0m\u001b[0mchocolates\u001b[0m\u001b[1;33m.\u001b[0m\u001b[0mkeys\u001b[0m\u001b[1;33m(\u001b[0m\u001b[1;33m)\u001b[0m\u001b[1;33m)\u001b[0m\u001b[1;33m:\u001b[0m\u001b[1;33m\u001b[0m\u001b[1;33m\u001b[0m\u001b[0m\n\u001b[1;32m----> 2\u001b[1;33m     \u001b[0mprint\u001b[0m\u001b[1;33m(\u001b[0m\u001b[1;34mf\"{chocolates.title()},i love it.\"\u001b[0m\u001b[1;33m)\u001b[0m\u001b[1;33m\u001b[0m\u001b[1;33m\u001b[0m\u001b[0m\n\u001b[0m",
      "\u001b[1;31mAttributeError\u001b[0m: 'dict' object has no attribute 'title'"
     ]
    }
   ],
   "source": [
    "for sweet in sorted(chocolates.keys()):\n",
    "    print(f\"{chocolates.title()},i love it.\")"
   ]
  },
  {
   "cell_type": "code",
   "execution_count": 37,
   "metadata": {},
   "outputs": [
    {
     "name": "stdout",
     "output_type": "stream",
     "text": [
      "7\n",
      "9\n",
      "11\n",
      "13\n",
      "15\n",
      "17\n",
      "19\n",
      "21\n",
      "23\n",
      "25\n",
      "27\n",
      "29\n",
      "31\n",
      "33\n",
      "35\n",
      "37\n",
      "39\n"
     ]
    }
   ],
   "source": [
    "current_num=7\n",
    "while  current_num<=40:\n",
    "    print(current_num)\n",
    "    current_num+=2"
   ]
  },
  {
   "cell_type": "code",
   "execution_count": null,
   "metadata": {},
   "outputs": [],
   "source": []
  }
 ],
 "metadata": {
  "kernelspec": {
   "display_name": "Python 3",
   "language": "python",
   "name": "python3"
  },
  "language_info": {
   "codemirror_mode": {
    "name": "ipython",
    "version": 3
   },
   "file_extension": ".py",
   "mimetype": "text/x-python",
   "name": "python",
   "nbconvert_exporter": "python",
   "pygments_lexer": "ipython3",
   "version": "3.7.4"
  }
 },
 "nbformat": 4,
 "nbformat_minor": 2
}
